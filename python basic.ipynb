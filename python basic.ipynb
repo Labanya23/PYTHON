{
  "nbformat": 4,
  "nbformat_minor": 0,
  "metadata": {
    "colab": {
      "provenance": []
    },
    "kernelspec": {
      "name": "python3",
      "display_name": "Python 3"
    },
    "language_info": {
      "name": "python"
    }
  },
  "cells": [
    {
      "cell_type": "markdown",
      "source": [
        "# PRINT"
      ],
      "metadata": {
        "id": "bqkWxd7976ql"
      }
    },
    {
      "cell_type": "markdown",
      "source": [
        "PROBLEM 1\n",
        "How to print name?\n"
      ],
      "metadata": {
        "id": "kAGKHY-B8EkG"
      }
    },
    {
      "cell_type": "code",
      "source": [
        "print(\"Labanya\")\n",
        "print()"
      ],
      "metadata": {
        "colab": {
          "base_uri": "https://localhost:8080/"
        },
        "id": "vlKTuy6c8kss",
        "outputId": "63d89d3b-11e2-496e-98ee-75bb9dcc5176"
      },
      "execution_count": null,
      "outputs": [
        {
          "output_type": "stream",
          "name": "stdout",
          "text": [
            "Labanya\n",
            "\n"
          ]
        }
      ]
    },
    {
      "cell_type": "markdown",
      "source": [
        "Problem 2.\n",
        "How to print hello world?"
      ],
      "metadata": {
        "id": "9sM0RkAj9Epc"
      }
    },
    {
      "cell_type": "code",
      "source": [
        "print('hello world')"
      ],
      "metadata": {
        "colab": {
          "base_uri": "https://localhost:8080/"
        },
        "id": "NFWD08gq9nEb",
        "outputId": "8aa8fa1e-c2e3-43e6-c94e-bd5901bf0d9d"
      },
      "execution_count": null,
      "outputs": [
        {
          "output_type": "stream",
          "name": "stdout",
          "text": [
            "hello world\n"
          ]
        }
      ]
    },
    {
      "cell_type": "markdown",
      "source": [
        "problem 3: print course?"
      ],
      "metadata": {
        "id": "0NpCcHUd9rr8"
      }
    },
    {
      "cell_type": "code",
      "source": [
        "print('cse')"
      ],
      "metadata": {
        "colab": {
          "base_uri": "https://localhost:8080/"
        },
        "id": "dNSSSzUb91vN",
        "outputId": "866cabe0-29f8-493a-e10b-73fe54f9e993"
      },
      "execution_count": null,
      "outputs": [
        {
          "output_type": "stream",
          "name": "stdout",
          "text": [
            "cse\n"
          ]
        }
      ]
    },
    {
      "cell_type": "markdown",
      "source": [
        "4)how to print kushtia?\n",
        "5)Dhaka?"
      ],
      "metadata": {
        "id": "VY2FVFGEWlMA"
      }
    },
    {
      "cell_type": "code",
      "source": [
        "print('Kushtia')\n",
        "print('Dhaka')"
      ],
      "metadata": {
        "colab": {
          "base_uri": "https://localhost:8080/"
        },
        "id": "ZAIgQkBHW9K1",
        "outputId": "ea9b7932-5c4d-4b52-fec6-78d0b0edb504"
      },
      "execution_count": 1,
      "outputs": [
        {
          "output_type": "stream",
          "name": "stdout",
          "text": [
            "Kushtia\n",
            "Dhaka\n"
          ]
        }
      ]
    },
    {
      "cell_type": "markdown",
      "source": [
        "VARIABLE"
      ],
      "metadata": {
        "id": "EKTpadKK-fOc"
      }
    },
    {
      "cell_type": "markdown",
      "source": [
        "1)pRINT STRING?"
      ],
      "metadata": {
        "id": "W8zuRA7B-qC0"
      }
    },
    {
      "cell_type": "code",
      "source": [
        "b = \"labanya\"\n",
        "print(b)"
      ],
      "metadata": {
        "colab": {
          "base_uri": "https://localhost:8080/"
        },
        "id": "BTdbLbIJ-70E",
        "outputId": "59b33018-2b27-4993-87e8-0b2c3a781ef2"
      },
      "execution_count": null,
      "outputs": [
        {
          "output_type": "stream",
          "name": "stdout",
          "text": [
            "labanya\n"
          ]
        }
      ]
    },
    {
      "cell_type": "markdown",
      "source": [
        "2)print int?"
      ],
      "metadata": {
        "id": "mggAyHP2_TzT"
      }
    },
    {
      "cell_type": "code",
      "source": [
        "l= 25\n",
        "print(l)"
      ],
      "metadata": {
        "colab": {
          "base_uri": "https://localhost:8080/"
        },
        "id": "Sk_nAaBv_ZBb",
        "outputId": "49041818-1001-4816-94a8-0dd18928d56e"
      },
      "execution_count": null,
      "outputs": [
        {
          "output_type": "stream",
          "name": "stdout",
          "text": [
            "25\n"
          ]
        }
      ]
    },
    {
      "cell_type": "markdown",
      "source": [
        "print bool?"
      ],
      "metadata": {
        "id": "yoH2lKnh_f4M"
      }
    },
    {
      "cell_type": "code",
      "source": [
        "d = False\n",
        "print(d)"
      ],
      "metadata": {
        "colab": {
          "base_uri": "https://localhost:8080/"
        },
        "id": "9X8jfiGm_kg7",
        "outputId": "5e31b07b-2ccd-439e-beaa-4a062365b7ad"
      },
      "execution_count": null,
      "outputs": [
        {
          "output_type": "stream",
          "name": "stdout",
          "text": [
            "False\n"
          ]
        }
      ]
    },
    {
      "cell_type": "markdown",
      "source": [
        "4)showing us the type of variable?"
      ],
      "metadata": {
        "id": "3-80wfRZ_swU"
      }
    },
    {
      "cell_type": "code",
      "source": [
        "c = 5.9\n",
        "d= True\n",
        "\n",
        "print(type(c))\n",
        "print(type(d))"
      ],
      "metadata": {
        "colab": {
          "base_uri": "https://localhost:8080/"
        },
        "id": "cEY0IjxD_3oL",
        "outputId": "a14b2195-07f7-4490-c2df-951fc3303a03"
      },
      "execution_count": null,
      "outputs": [
        {
          "output_type": "stream",
          "name": "stdout",
          "text": [
            "<class 'float'>\n",
            "<class 'bool'>\n"
          ]
        }
      ]
    },
    {
      "cell_type": "markdown",
      "source": [
        "5)how to show string cast?"
      ],
      "metadata": {
        "id": "ERjkTaacXUqS"
      }
    },
    {
      "cell_type": "code",
      "source": [
        "b='labanya'\n",
        "\n",
        "a=str(b)\n",
        "print(type(a))\n",
        "print(a)"
      ],
      "metadata": {
        "colab": {
          "base_uri": "https://localhost:8080/"
        },
        "id": "_YtZKNRhXcMt",
        "outputId": "01e822b2-4c16-44b1-9678-a29b6c0b5f8e"
      },
      "execution_count": 4,
      "outputs": [
        {
          "output_type": "stream",
          "name": "stdout",
          "text": [
            "<class 'str'>\n",
            "labanya\n"
          ]
        }
      ]
    },
    {
      "cell_type": "markdown",
      "source": [
        "OPERATION"
      ],
      "metadata": {
        "id": "pZTFEG5rAsWz"
      }
    },
    {
      "cell_type": "markdown",
      "source": [
        "1.How to sum?"
      ],
      "metadata": {
        "id": "q_Uzr_TzAyYc"
      }
    },
    {
      "cell_type": "code",
      "source": [
        "a=5\n",
        "b=3\n",
        "\n",
        "sum=a+b\n",
        "print(\"Sum\",sum)"
      ],
      "metadata": {
        "colab": {
          "base_uri": "https://localhost:8080/"
        },
        "id": "pk-44CyaA25E",
        "outputId": "ddac1c83-442e-4255-8aa4-4ec41afa7be9"
      },
      "execution_count": null,
      "outputs": [
        {
          "output_type": "stream",
          "name": "stdout",
          "text": [
            "Sum 8\n"
          ]
        }
      ]
    },
    {
      "cell_type": "markdown",
      "source": [
        "How to difference result?"
      ],
      "metadata": {
        "id": "fyraJQX3BI6L"
      }
    },
    {
      "cell_type": "code",
      "source": [
        "a=10\n",
        "b=3\n",
        "difference=a-b\n",
        "\n",
        "print(\"Difference=\",difference)"
      ],
      "metadata": {
        "colab": {
          "base_uri": "https://localhost:8080/"
        },
        "id": "D8ib_5FsBWsj",
        "outputId": "cad9d132-3b37-483a-f8d1-332c0ce84dd4"
      },
      "execution_count": null,
      "outputs": [
        {
          "output_type": "stream",
          "name": "stdout",
          "text": [
            "Difference= 7\n"
          ]
        }
      ]
    },
    {
      "cell_type": "markdown",
      "source": [
        "how to calculation muliplicate two numbers?"
      ],
      "metadata": {
        "id": "IbmFtv_ZBjmL"
      }
    },
    {
      "cell_type": "code",
      "source": [
        "a=9\n",
        "b=3\n",
        "multi=a*b\n",
        "print(a*b)"
      ],
      "metadata": {
        "colab": {
          "base_uri": "https://localhost:8080/"
        },
        "id": "l9my2J5kBtBj",
        "outputId": "5409d06a-4754-446a-9b4e-6f573684c838"
      },
      "execution_count": null,
      "outputs": [
        {
          "output_type": "stream",
          "name": "stdout",
          "text": [
            "27\n"
          ]
        }
      ]
    },
    {
      "cell_type": "markdown",
      "source": [
        "4)YOU HAVE 25 APPPLES.how u between these apples with 5 peoples?"
      ],
      "metadata": {
        "id": "7-32t8MtB3nj"
      }
    },
    {
      "cell_type": "code",
      "source": [
        "apples=25\n",
        "man=5\n",
        "print(apples/man)"
      ],
      "metadata": {
        "colab": {
          "base_uri": "https://localhost:8080/"
        },
        "id": "2efPQ-66CIWV",
        "outputId": "88c219cc-ce3d-443b-dd85-10aaa99eba65"
      },
      "execution_count": null,
      "outputs": [
        {
          "output_type": "stream",
          "name": "stdout",
          "text": [
            "5.0\n"
          ]
        }
      ]
    },
    {
      "cell_type": "markdown",
      "source": [
        "5)Showing sum and multi together?"
      ],
      "metadata": {
        "id": "Ln1MDzOaYGgG"
      }
    },
    {
      "cell_type": "code",
      "source": [
        "a=59\n",
        "b=22\n",
        "sum = a+b\n",
        "multi=a*b\n",
        "print(sum)\n",
        "print(multi)"
      ],
      "metadata": {
        "colab": {
          "base_uri": "https://localhost:8080/"
        },
        "id": "spw3rW0SYQgE",
        "outputId": "94c07bc8-9b8a-494e-b4dc-b18a06b58398"
      },
      "execution_count": 5,
      "outputs": [
        {
          "output_type": "stream",
          "name": "stdout",
          "text": [
            "81\n",
            "1298\n"
          ]
        }
      ]
    },
    {
      "cell_type": "markdown",
      "source": [
        "STRING"
      ],
      "metadata": {
        "id": "XpXDb_sfCYHT"
      }
    },
    {
      "cell_type": "markdown",
      "source": [
        "1)Concatenate two strings and store the result?"
      ],
      "metadata": {
        "id": "fi2VPv90Crir"
      }
    },
    {
      "cell_type": "code",
      "source": [
        "string1=\"hello\"\n",
        "string2=\"world\"\n",
        "\n",
        "string=string1 + \" \" + string2\n",
        "print(string)\n"
      ],
      "metadata": {
        "colab": {
          "base_uri": "https://localhost:8080/"
        },
        "id": "SZ_T99PiC8gj",
        "outputId": "c0fb1615-26ec-4ee0-d9bb-499589fdf1d6"
      },
      "execution_count": null,
      "outputs": [
        {
          "output_type": "stream",
          "name": "stdout",
          "text": [
            "hello world\n"
          ]
        }
      ]
    },
    {
      "cell_type": "markdown",
      "source": [
        "2)print lowercase letter?"
      ],
      "metadata": {
        "id": "5lpMBNhjEG-z"
      }
    },
    {
      "cell_type": "code",
      "source": [
        "a= \"labanya\"\n",
        "print(a.lower())"
      ],
      "metadata": {
        "colab": {
          "base_uri": "https://localhost:8080/"
        },
        "id": "XKPxaiTgEeCD",
        "outputId": "45a41028-a835-4e0e-9121-d341402d8c17"
      },
      "execution_count": null,
      "outputs": [
        {
          "output_type": "stream",
          "name": "stdout",
          "text": [
            "labanya\n"
          ]
        }
      ]
    },
    {
      "cell_type": "markdown",
      "source": [
        "3)print uppercase letter?"
      ],
      "metadata": {
        "id": "wLIq1KkFFI7b"
      }
    },
    {
      "cell_type": "code",
      "source": [
        "b=\"saha\"\n",
        "print(b.upper())"
      ],
      "metadata": {
        "colab": {
          "base_uri": "https://localhost:8080/"
        },
        "id": "EODnSjGQFPSr",
        "outputId": "f7741cf4-4682-4629-cb56-f5502cd34ccd"
      },
      "execution_count": null,
      "outputs": [
        {
          "output_type": "stream",
          "name": "stdout",
          "text": [
            "SAHA\n"
          ]
        }
      ]
    },
    {
      "cell_type": "markdown",
      "source": [
        "4)print split how to word?"
      ],
      "metadata": {
        "id": "J9DInMnEFb0r"
      }
    },
    {
      "cell_type": "code",
      "source": [
        "s=\"labanya saha\"\n",
        "print(s.split())"
      ],
      "metadata": {
        "colab": {
          "base_uri": "https://localhost:8080/"
        },
        "id": "J6SttHlyFiRK",
        "outputId": "0efb1ddf-3277-451c-b0c1-5204b9991a54"
      },
      "execution_count": null,
      "outputs": [
        {
          "output_type": "stream",
          "name": "stdout",
          "text": [
            "['labanya', 'saha']\n"
          ]
        }
      ]
    },
    {
      "cell_type": "markdown",
      "source": [
        "5)How to concatenate lowercase letters?"
      ],
      "metadata": {
        "id": "OhP_QxvLGBM6"
      }
    },
    {
      "cell_type": "code",
      "source": [
        "a=\"labanya\"\n",
        "b=\"saha\"\n",
        "c=a+'hey'+b+str(59)\n",
        "c\n",
        "c.lower()"
      ],
      "metadata": {
        "colab": {
          "base_uri": "https://localhost:8080/",
          "height": 36
        },
        "id": "kRse98idGJm8",
        "outputId": "25079241-0c64-46b7-9763-9aed29004dbe"
      },
      "execution_count": null,
      "outputs": [
        {
          "output_type": "execute_result",
          "data": {
            "text/plain": [
              "'labanyaheysaha59'"
            ],
            "application/vnd.google.colaboratory.intrinsic+json": {
              "type": "string"
            }
          },
          "metadata": {},
          "execution_count": 22
        }
      ]
    },
    {
      "cell_type": "markdown",
      "source": [],
      "metadata": {
        "id": "n3XDjD5UDN57"
      }
    },
    {
      "cell_type": "markdown",
      "source": [
        "CONTROL FLOW"
      ],
      "metadata": {
        "id": "V6BSXjtQGzHL"
      }
    },
    {
      "cell_type": "markdown",
      "source": [
        "1.Find out odd or even?"
      ],
      "metadata": {
        "id": "FlRo9QiSG16a"
      }
    },
    {
      "cell_type": "code",
      "source": [
        "a=20\n",
        "if a%2==0:\n",
        "  print('even')\n",
        "else:\n",
        "  print('odd')"
      ],
      "metadata": {
        "colab": {
          "base_uri": "https://localhost:8080/"
        },
        "id": "xMiGOznnG75i",
        "outputId": "8751f331-64f8-4e81-8a77-5e72e34f026c"
      },
      "execution_count": null,
      "outputs": [
        {
          "output_type": "stream",
          "name": "stdout",
          "text": [
            "even\n"
          ]
        }
      ]
    },
    {
      "cell_type": "markdown",
      "source": [
        "2)Find out age is higher than 18?"
      ],
      "metadata": {
        "id": "DnjFwF72HTXC"
      }
    },
    {
      "cell_type": "code",
      "source": [
        "age=23\n",
        "if age>=18:\n",
        "  print('adult')\n",
        "else:\n",
        "  print('not adult')"
      ],
      "metadata": {
        "colab": {
          "base_uri": "https://localhost:8080/"
        },
        "id": "MH8pf-TSHZIq",
        "outputId": "2eb7d3f2-7ceb-4335-ea80-9eee6b8c462e"
      },
      "execution_count": null,
      "outputs": [
        {
          "output_type": "stream",
          "name": "stdout",
          "text": [
            "adult\n"
          ]
        }
      ]
    },
    {
      "cell_type": "markdown",
      "source": [
        "3)Write a program that takes a year as input and prints wether its leap year or not?"
      ],
      "metadata": {
        "id": "xxUDkR0jH4hC"
      }
    },
    {
      "cell_type": "code",
      "source": [
        "year=2024\n",
        "\n",
        "if(year%4==0 and year%100!=0) or (year%400==0):\n",
        "  print(\"leap year\")\n",
        "else:\n",
        "  print(\"NOT leap year\")"
      ],
      "metadata": {
        "colab": {
          "base_uri": "https://localhost:8080/"
        },
        "id": "QVLquuYIIFVa",
        "outputId": "870a9370-e5b7-4e76-8319-bb17ae64b6e1"
      },
      "execution_count": null,
      "outputs": [
        {
          "output_type": "stream",
          "name": "stdout",
          "text": [
            "leap year\n"
          ]
        }
      ]
    },
    {
      "cell_type": "markdown",
      "source": [
        "Write a program that takes a numerical grade as input and prints the corresponding letter grade (A, B, C, D, or F)."
      ],
      "metadata": {
        "id": "DHVLhO7DIeeK"
      }
    },
    {
      "cell_type": "code",
      "source": [
        "grade = 110\n",
        "\n",
        "if grade >= 90:\n",
        "    print(\"A\")\n",
        "elif grade >= 80:\n",
        "    print(\"B\")\n",
        "elif grade >= 70:\n",
        "    print(\"C\")\n",
        "elif grade >= 60:\n",
        "    print(\"D\")\n",
        "else:\n",
        "    print(\"F\")"
      ],
      "metadata": {
        "colab": {
          "base_uri": "https://localhost:8080/"
        },
        "id": "bOtk4pszIlr6",
        "outputId": "8c1d2859-7ac8-4253-aae4-cd10d80d3a30"
      },
      "execution_count": null,
      "outputs": [
        {
          "output_type": "stream",
          "name": "stdout",
          "text": [
            "A\n"
          ]
        }
      ]
    },
    {
      "cell_type": "markdown",
      "source": [
        "5)Find largest number?"
      ],
      "metadata": {
        "id": "BK-J41KmIt4C"
      }
    },
    {
      "cell_type": "code",
      "source": [
        "l = 19\n",
        "if 17>l>20:\n",
        "  print('yes')\n",
        "else:\n",
        "  print('no')"
      ],
      "metadata": {
        "colab": {
          "base_uri": "https://localhost:8080/"
        },
        "id": "4aFEubSoBIKW",
        "outputId": "65662ce8-5fc1-4c9d-9202-9d77e18cd97e"
      },
      "execution_count": null,
      "outputs": [
        {
          "output_type": "stream",
          "name": "stdout",
          "text": [
            "no\n"
          ]
        }
      ]
    },
    {
      "cell_type": "markdown",
      "source": [
        "USER INPUT"
      ],
      "metadata": {
        "id": "ycPjHRo4JSa6"
      }
    },
    {
      "cell_type": "markdown",
      "source": [
        "1)Sum of two numbers?"
      ],
      "metadata": {
        "id": "VRgxWALsJlxS"
      }
    },
    {
      "cell_type": "code",
      "source": [
        "num1=float(input(\"enter number1\"))\n",
        "num2=float(input(\"enter number2\"))\n",
        "\n",
        "sum=num1+num2\n",
        "print(sum)"
      ],
      "metadata": {
        "colab": {
          "base_uri": "https://localhost:8080/"
        },
        "id": "Mn_uY93mJuFR",
        "outputId": "9c03c5f0-37ab-4ea5-f64b-74eb7b427646"
      },
      "execution_count": null,
      "outputs": [
        {
          "output_type": "stream",
          "name": "stdout",
          "text": [
            "enter number13\n",
            "enter number24\n",
            "7.0\n"
          ]
        }
      ]
    },
    {
      "cell_type": "markdown",
      "source": [
        "2)Calculate area of circle?"
      ],
      "metadata": {
        "id": "vWX3YHjPKNVZ"
      }
    },
    {
      "cell_type": "code",
      "source": [
        "r=float(input(\"enter the radius: \"))\n",
        "a=3.14*r*r\n",
        "print(r)"
      ],
      "metadata": {
        "colab": {
          "base_uri": "https://localhost:8080/"
        },
        "id": "1BfSI2HwKYWA",
        "outputId": "0ebab0a1-648b-4990-e370-95847c05c4b8"
      },
      "execution_count": null,
      "outputs": [
        {
          "output_type": "stream",
          "name": "stdout",
          "text": [
            "enter the radius: 4\n",
            "4.0\n"
          ]
        }
      ]
    },
    {
      "cell_type": "markdown",
      "source": [
        "3)Print user input?"
      ],
      "metadata": {
        "id": "MJ2Wh4CnLT25"
      }
    },
    {
      "cell_type": "code",
      "source": [
        "a=int(input())\n",
        "print(type(a))"
      ],
      "metadata": {
        "colab": {
          "base_uri": "https://localhost:8080/"
        },
        "id": "sk2sAZq8LkiK",
        "outputId": "b681f493-163b-4935-d255-cb645e06b51e"
      },
      "execution_count": null,
      "outputs": [
        {
          "output_type": "stream",
          "name": "stdout",
          "text": [
            "3\n",
            "<class 'int'>\n"
          ]
        }
      ]
    },
    {
      "cell_type": "markdown",
      "source": [],
      "metadata": {
        "id": "WS01lCqFx0Rd"
      }
    },
    {
      "cell_type": "markdown",
      "source": [
        "4)print float ?"
      ],
      "metadata": {
        "id": "r6ky3ecrzWQ1"
      }
    },
    {
      "cell_type": "code",
      "source": [
        "a=float(input())\n",
        "print(a)"
      ],
      "metadata": {
        "colab": {
          "base_uri": "https://localhost:8080/"
        },
        "id": "7DubkrSyz0WC",
        "outputId": "688236fe-a717-401b-db10-6965306c25ad"
      },
      "execution_count": null,
      "outputs": [
        {
          "output_type": "stream",
          "name": "stdout",
          "text": [
            "2.0\n",
            "2.0\n"
          ]
        }
      ]
    },
    {
      "cell_type": "markdown",
      "source": [
        "5)Enter your age and name?"
      ],
      "metadata": {
        "id": "ZnUYoN_G1Om2"
      }
    },
    {
      "cell_type": "code",
      "source": [
        "name=input('Enter name: ')\n",
        "age=int(input('Enter Age: '))\n",
        "print(type(age))\n",
        "print('Hello'+name+'your age is'+str(age))\n",
        "print (name,age)"
      ],
      "metadata": {
        "colab": {
          "base_uri": "https://localhost:8080/"
        },
        "id": "mQmLVp9z1WuA",
        "outputId": "10b6ed0f-e5f8-4e20-d871-057ec36795cf"
      },
      "execution_count": null,
      "outputs": [
        {
          "output_type": "stream",
          "name": "stdout",
          "text": [
            "Enter name: labanya\n",
            "Enter Age: 22\n",
            "<class 'int'>\n",
            "Hellolabanyayour age is22\n",
            "labanya 22\n"
          ]
        }
      ]
    },
    {
      "cell_type": "markdown",
      "source": [],
      "metadata": {
        "id": "8B5RuJT40dbw"
      }
    },
    {
      "cell_type": "markdown",
      "source": [
        "COMMAND LINE"
      ],
      "metadata": {
        "id": "EHAZk3el1ac6"
      }
    },
    {
      "cell_type": "code",
      "source": [
        "#How are you?\n",
        "\"\"\"\n",
        "I am fine\n",
        "\n",
        "\"\"\""
      ],
      "metadata": {
        "colab": {
          "base_uri": "https://localhost:8080/",
          "height": 36
        },
        "id": "SflDZAzB1dh1",
        "outputId": "438afe9b-3f49-40cb-d57c-9003d5098d0e"
      },
      "execution_count": null,
      "outputs": [
        {
          "output_type": "execute_result",
          "data": {
            "text/plain": [
              "'\\nI am fine\\n\\n'"
            ],
            "application/vnd.google.colaboratory.intrinsic+json": {
              "type": "string"
            }
          },
          "metadata": {},
          "execution_count": 2
        }
      ]
    },
    {
      "cell_type": "markdown",
      "source": [
        "LOOP"
      ],
      "metadata": {
        "id": "97yQtEeJ2COd"
      }
    },
    {
      "cell_type": "markdown",
      "source": [
        "3."
      ],
      "metadata": {
        "id": "cQ3PknyCLvri"
      }
    },
    {
      "cell_type": "markdown",
      "source": [
        "1)Print odd number?"
      ],
      "metadata": {
        "id": "_dChicu-2X9E"
      }
    },
    {
      "cell_type": "code",
      "source": [
        "for i in range(1,101,2):\n",
        "  print(i)\n",
        "#print(i)"
      ],
      "metadata": {
        "colab": {
          "base_uri": "https://localhost:8080/"
        },
        "id": "HTnBZbt_2cAo",
        "outputId": "b9e08c56-5ee3-4c1c-9b74-b0863c480925"
      },
      "execution_count": null,
      "outputs": [
        {
          "output_type": "stream",
          "name": "stdout",
          "text": [
            "1\n",
            "3\n",
            "5\n",
            "7\n",
            "9\n",
            "11\n",
            "13\n",
            "15\n",
            "17\n",
            "19\n",
            "21\n",
            "23\n",
            "25\n",
            "27\n",
            "29\n",
            "31\n",
            "33\n",
            "35\n",
            "37\n",
            "39\n",
            "41\n",
            "43\n",
            "45\n",
            "47\n",
            "49\n",
            "51\n",
            "53\n",
            "55\n",
            "57\n",
            "59\n",
            "61\n",
            "63\n",
            "65\n",
            "67\n",
            "69\n",
            "71\n",
            "73\n",
            "75\n",
            "77\n",
            "79\n",
            "81\n",
            "83\n",
            "85\n",
            "87\n",
            "89\n",
            "91\n",
            "93\n",
            "95\n",
            "97\n",
            "99\n"
          ]
        }
      ]
    },
    {
      "cell_type": "markdown",
      "source": [
        "3.Decrease number?"
      ],
      "metadata": {
        "id": "-ENO-_yY22N-"
      }
    },
    {
      "cell_type": "code",
      "source": [
        "for i in range(50,-1,-5):\n",
        "  print(i)"
      ],
      "metadata": {
        "colab": {
          "base_uri": "https://localhost:8080/"
        },
        "id": "6Pab0dih3i6u",
        "outputId": "4cc98003-eaa7-4609-ea63-95b140403ce3"
      },
      "execution_count": null,
      "outputs": [
        {
          "output_type": "stream",
          "name": "stdout",
          "text": [
            "50\n",
            "45\n",
            "40\n",
            "35\n",
            "30\n",
            "25\n",
            "20\n",
            "15\n",
            "10\n",
            "5\n",
            "0\n"
          ]
        }
      ]
    },
    {
      "cell_type": "markdown",
      "source": [
        "4)Using while loop?"
      ],
      "metadata": {
        "id": "G6RWsG5k3yrT"
      }
    },
    {
      "cell_type": "code",
      "source": [
        "count=1\n",
        "while count<=20:\n",
        "  print(count)\n",
        "  count+=2"
      ],
      "metadata": {
        "colab": {
          "base_uri": "https://localhost:8080/"
        },
        "id": "ObKJRv0Q4Byp",
        "outputId": "d2053d18-5094-4a46-d56d-fefa97973abe"
      },
      "execution_count": null,
      "outputs": [
        {
          "output_type": "stream",
          "name": "stdout",
          "text": [
            "1\n",
            "3\n",
            "5\n",
            "7\n",
            "9\n",
            "11\n",
            "13\n",
            "15\n",
            "17\n",
            "19\n"
          ]
        }
      ]
    },
    {
      "cell_type": "markdown",
      "source": [
        "5)showing even numbers?"
      ],
      "metadata": {
        "id": "JPzMsPSzY0UI"
      }
    },
    {
      "cell_type": "code",
      "source": [
        "for i in range (2,100,2):\n",
        "  print(i)"
      ],
      "metadata": {
        "colab": {
          "base_uri": "https://localhost:8080/"
        },
        "id": "DfOB0BsFZDJQ",
        "outputId": "c2cd2c05-d057-408a-8443-77483ab7b18d"
      },
      "execution_count": 6,
      "outputs": [
        {
          "output_type": "stream",
          "name": "stdout",
          "text": [
            "2\n",
            "4\n",
            "6\n",
            "8\n",
            "10\n",
            "12\n",
            "14\n",
            "16\n",
            "18\n",
            "20\n",
            "22\n",
            "24\n",
            "26\n",
            "28\n",
            "30\n",
            "32\n",
            "34\n",
            "36\n",
            "38\n",
            "40\n",
            "42\n",
            "44\n",
            "46\n",
            "48\n",
            "50\n",
            "52\n",
            "54\n",
            "56\n",
            "58\n",
            "60\n",
            "62\n",
            "64\n",
            "66\n",
            "68\n",
            "70\n",
            "72\n",
            "74\n",
            "76\n",
            "78\n",
            "80\n",
            "82\n",
            "84\n",
            "86\n",
            "88\n",
            "90\n",
            "92\n",
            "94\n",
            "96\n",
            "98\n"
          ]
        }
      ]
    },
    {
      "cell_type": "markdown",
      "source": [
        "LIST"
      ],
      "metadata": {
        "id": "jDpUMM3cYxAe"
      }
    },
    {
      "cell_type": "markdown",
      "source": [
        "1)How to accessing elements?"
      ],
      "metadata": {
        "id": "4S-5t2255-In"
      }
    },
    {
      "cell_type": "code",
      "source": [
        "students=[\"labanya\",\"22\",\"saha\",\"shuvra\"]\n",
        "print(students[0])\n",
        "print(students[1])\n",
        "print(students[2])"
      ],
      "metadata": {
        "colab": {
          "base_uri": "https://localhost:8080/"
        },
        "id": "b1ITAxgs6KUH",
        "outputId": "eb93dab7-7346-4e37-efe0-2ef317b4e25b"
      },
      "execution_count": null,
      "outputs": [
        {
          "output_type": "stream",
          "name": "stdout",
          "text": [
            "labanya\n",
            "22\n",
            "saha\n"
          ]
        }
      ]
    },
    {
      "cell_type": "markdown",
      "source": [
        "2)How to list second value change?"
      ],
      "metadata": {
        "id": "6_ozAoD26mWc"
      }
    },
    {
      "cell_type": "code",
      "source": [
        "students[1]=\"lpdssj\"\n",
        "print(students)"
      ],
      "metadata": {
        "colab": {
          "base_uri": "https://localhost:8080/"
        },
        "id": "42uoNYkM60As",
        "outputId": "11184da5-93e5-4741-8424-ed07d0c29e3a"
      },
      "execution_count": null,
      "outputs": [
        {
          "output_type": "stream",
          "name": "stdout",
          "text": [
            "['labanya', 'lpdssj', 'saha', 'shuvra']\n"
          ]
        }
      ]
    },
    {
      "cell_type": "markdown",
      "source": [
        "3)How to add new student name?"
      ],
      "metadata": {
        "id": "rBtCQ7z27I-6"
      }
    },
    {
      "cell_type": "code",
      "source": [
        "students.append(\"jd\")\n",
        "print(students)"
      ],
      "metadata": {
        "colab": {
          "base_uri": "https://localhost:8080/"
        },
        "id": "y3CIY2P37UnR",
        "outputId": "6b7c7a36-d4be-4f4a-e862-32b12d21210a"
      },
      "execution_count": null,
      "outputs": [
        {
          "output_type": "stream",
          "name": "stdout",
          "text": [
            "['labanya', 'lpdssj', 'saha', 'shuvra', 'jd']\n"
          ]
        }
      ]
    },
    {
      "cell_type": "markdown",
      "source": [
        "4)How to remove element?"
      ],
      "metadata": {
        "id": "LgqhCPj37m_S"
      }
    },
    {
      "cell_type": "code",
      "source": [
        "students.remove(\"shuvra\")\n",
        "print(students)\n",
        "\n",
        "removed_students=students.pop(0)\n",
        "print(students)\n",
        "print(removed_students)\n"
      ],
      "metadata": {
        "colab": {
          "base_uri": "https://localhost:8080/"
        },
        "id": "racUoRCY7tco",
        "outputId": "1cf9d35f-82a6-4f1d-d48d-181e90908754"
      },
      "execution_count": null,
      "outputs": [
        {
          "output_type": "stream",
          "name": "stdout",
          "text": [
            "['labanya', 'lpdssj', 'saha', 'jd']\n",
            "['lpdssj', 'saha', 'jd']\n",
            "labanya\n"
          ]
        }
      ]
    },
    {
      "cell_type": "markdown",
      "source": [
        "5)Find len?"
      ],
      "metadata": {
        "id": "wrFsmg5O8b6p"
      }
    },
    {
      "cell_type": "code",
      "source": [
        "print(len(students))"
      ],
      "metadata": {
        "colab": {
          "base_uri": "https://localhost:8080/"
        },
        "id": "TZs8j_L38fFD",
        "outputId": "77475a62-751d-4daa-d487-1175f485a037"
      },
      "execution_count": null,
      "outputs": [
        {
          "output_type": "stream",
          "name": "stdout",
          "text": [
            "3\n"
          ]
        }
      ]
    },
    {
      "cell_type": "markdown",
      "source": [
        "Tuple"
      ],
      "metadata": {
        "id": "ypGIZRmHZ7AK"
      }
    },
    {
      "cell_type": "markdown",
      "source": [
        "1)How to access individual elements?"
      ],
      "metadata": {
        "id": "6jEbx-WPZ_Nc"
      }
    },
    {
      "cell_type": "code",
      "source": [
        "labanya=(22,2001)\n",
        "print(labanya[0])\n",
        "print(labanya[1])"
      ],
      "metadata": {
        "colab": {
          "base_uri": "https://localhost:8080/"
        },
        "id": "qvUkDpJ1aHyP",
        "outputId": "02379c24-05eb-4331-fb44-a9d7788e7ca2"
      },
      "execution_count": 7,
      "outputs": [
        {
          "output_type": "stream",
          "name": "stdout",
          "text": [
            "22\n",
            "2001\n"
          ]
        }
      ]
    },
    {
      "cell_type": "markdown",
      "source": [
        "2)Packing tuple print?"
      ],
      "metadata": {
        "id": "5vdIWYTJaaQb"
      }
    },
    {
      "cell_type": "code",
      "source": [
        "name='labanya'\n",
        "age=22\n",
        "\n",
        "name_and_age=(\"labanya\",22)\n",
        "print(name)\n",
        "print(age)"
      ],
      "metadata": {
        "colab": {
          "base_uri": "https://localhost:8080/"
        },
        "id": "P2vztwXkbXCl",
        "outputId": "8779ac07-cf7b-4836-af71-f916a595aa8d"
      },
      "execution_count": 9,
      "outputs": [
        {
          "output_type": "stream",
          "name": "stdout",
          "text": [
            "labanya\n",
            "22\n"
          ]
        }
      ]
    },
    {
      "cell_type": "markdown",
      "source": [],
      "metadata": {
        "id": "IMhgr_OR8l6Y"
      }
    },
    {
      "cell_type": "markdown",
      "source": [
        "3)Unpacking tuple print?"
      ],
      "metadata": {
        "id": "iLoJ0lkgcRR6"
      }
    },
    {
      "cell_type": "code",
      "source": [
        "name,age=name_and_age\n",
        "print(name)\n",
        "print(age)"
      ],
      "metadata": {
        "colab": {
          "base_uri": "https://localhost:8080/"
        },
        "id": "WpDOlJWhcbG6",
        "outputId": "529f5361-110d-4320-d758-e65ca0d334b9"
      },
      "execution_count": 10,
      "outputs": [
        {
          "output_type": "stream",
          "name": "stdout",
          "text": [
            "labanya\n",
            "22\n"
          ]
        }
      ]
    },
    {
      "cell_type": "markdown",
      "source": [
        "4)How to use loop for iterator each elements in a tuple?"
      ],
      "metadata": {
        "id": "5nVy4oiwctI3"
      }
    },
    {
      "cell_type": "code",
      "source": [
        "favourites=(\"K-pop\",\"travelling\",\"mobile\")\n",
        "for favourite in favourites:\n",
        "  print(favourite)"
      ],
      "metadata": {
        "colab": {
          "base_uri": "https://localhost:8080/"
        },
        "id": "xciVMuQTc9pl",
        "outputId": "fa8185d8-f83f-48d6-da53-fa7a7143302b"
      },
      "execution_count": 12,
      "outputs": [
        {
          "output_type": "stream",
          "name": "stdout",
          "text": [
            "K-pop\n",
            "travelling\n",
            "mobile\n"
          ]
        }
      ]
    },
    {
      "cell_type": "markdown",
      "source": [
        "5)How to print tuple length?"
      ],
      "metadata": {
        "id": "zZh8lZ6bdpEi"
      }
    },
    {
      "cell_type": "markdown",
      "source": [],
      "metadata": {
        "id": "m5CbTH44JVGS"
      }
    },
    {
      "cell_type": "code",
      "source": [
        "print(len(favourites))"
      ],
      "metadata": {
        "colab": {
          "base_uri": "https://localhost:8080/"
        },
        "id": "N5b_XlkBd5oN",
        "outputId": "d29127a9-409b-45c9-98d2-db96d7267375"
      },
      "execution_count": 13,
      "outputs": [
        {
          "output_type": "stream",
          "name": "stdout",
          "text": [
            "3\n"
          ]
        }
      ]
    },
    {
      "cell_type": "markdown",
      "source": [
        "6)How to combined tuple?"
      ],
      "metadata": {
        "id": "BnOUvdGMexZ7"
      }
    },
    {
      "cell_type": "code",
      "source": [
        "l=(1,2,3)\n",
        "p=(4,5,6)\n",
        "print(l+p)"
      ],
      "metadata": {
        "colab": {
          "base_uri": "https://localhost:8080/"
        },
        "id": "F90d26o7e3Ag",
        "outputId": "f76c27a6-8ada-4b4d-f9be-caa39b403390"
      },
      "execution_count": 14,
      "outputs": [
        {
          "output_type": "stream",
          "name": "stdout",
          "text": [
            "(1, 2, 3, 4, 5, 6)\n"
          ]
        }
      ]
    },
    {
      "cell_type": "markdown",
      "source": [
        "DICTIONARY"
      ],
      "metadata": {
        "id": "kgCjKk44fD-u"
      }
    },
    {
      "cell_type": "markdown",
      "source": [
        "1)How to access values in dictionary by referring to their keys?"
      ],
      "metadata": {
        "id": "cfJz1z7QfIdn"
      }
    },
    {
      "cell_type": "code",
      "source": [
        "myself={\n",
        "    \"name\":\"labanya\",\n",
        "    \"age\": 22,\n",
        "    \"major\":\"computer-science\"\n",
        "}\n",
        "print(myself[\"name\"])\n",
        "print(myself[\"major\"])"
      ],
      "metadata": {
        "colab": {
          "base_uri": "https://localhost:8080/"
        },
        "id": "YtTLV_8nf30e",
        "outputId": "93840e2e-3647-4636-f8cc-6bf9eb71774b"
      },
      "execution_count": 17,
      "outputs": [
        {
          "output_type": "stream",
          "name": "stdout",
          "text": [
            "labanya\n",
            "computer-science\n"
          ]
        }
      ]
    },
    {
      "cell_type": "markdown",
      "source": [
        "2)How to change age value?"
      ],
      "metadata": {
        "id": "cwBfijkyhW98"
      }
    },
    {
      "cell_type": "code",
      "source": [
        "myself[\"age\"]=22\n",
        "print(myself[\"age\"])"
      ],
      "metadata": {
        "colab": {
          "base_uri": "https://localhost:8080/"
        },
        "id": "pkpcruzshjfV",
        "outputId": "0fa0b892-aa10-46ff-e185-2cfdb1113a46"
      },
      "execution_count": 19,
      "outputs": [
        {
          "output_type": "stream",
          "name": "stdout",
          "text": [
            "22\n"
          ]
        }
      ]
    },
    {
      "cell_type": "markdown",
      "source": [
        "3)How to adding values in dictionary?"
      ],
      "metadata": {
        "id": "w68zuNdGhxUN"
      }
    },
    {
      "cell_type": "code",
      "source": [
        "myself[\"gender\"]=\"Female\"\n",
        "print(myself)"
      ],
      "metadata": {
        "colab": {
          "base_uri": "https://localhost:8080/"
        },
        "id": "M_4HZx8vh-5S",
        "outputId": "fd1d52e8-04df-4813-f897-20acbc0d491c"
      },
      "execution_count": 20,
      "outputs": [
        {
          "output_type": "stream",
          "name": "stdout",
          "text": [
            "{'name': 'labanya', 'age': 22, 'major': 'computer-science', 'gender': 'Female'}\n"
          ]
        }
      ]
    },
    {
      "cell_type": "markdown",
      "source": [
        "4)how to delete age?"
      ],
      "metadata": {
        "id": "wWobXOePizPb"
      }
    },
    {
      "cell_type": "code",
      "source": [
        "del myself[\"age\"]\n",
        "print(myself)"
      ],
      "metadata": {
        "colab": {
          "base_uri": "https://localhost:8080/"
        },
        "id": "4WsuxFhZi9uI",
        "outputId": "7e3b473e-82ae-40b4-d688-02f432d2a196"
      },
      "execution_count": 21,
      "outputs": [
        {
          "output_type": "stream",
          "name": "stdout",
          "text": [
            "{'name': 'labanya', 'major': 'computer-science', 'gender': 'Female'}\n"
          ]
        }
      ]
    },
    {
      "cell_type": "markdown",
      "source": [
        "5)Check age exist or not?"
      ],
      "metadata": {
        "id": "_LebYuEzjRWC"
      }
    },
    {
      "cell_type": "code",
      "source": [
        "if \"age\" in myself:\n",
        "  print(\"Age:\",myself[\"age\"])\n",
        "else:\n",
        "  print(\"Age is not found\")"
      ],
      "metadata": {
        "colab": {
          "base_uri": "https://localhost:8080/"
        },
        "id": "kQbDeLbLjnoF",
        "outputId": "d68438d1-a659-44d6-9ba7-a892323382f6"
      },
      "execution_count": 22,
      "outputs": [
        {
          "output_type": "stream",
          "name": "stdout",
          "text": [
            "Age is not found\n"
          ]
        }
      ]
    },
    {
      "cell_type": "markdown",
      "source": [
        "6)Print keys and values?"
      ],
      "metadata": {
        "id": "mqO7-yiUkIge"
      }
    },
    {
      "cell_type": "code",
      "source": [
        "keys=myself.keys()\n",
        "values=myself.values()\n",
        "print(keys)\n",
        "print(values)\n"
      ],
      "metadata": {
        "colab": {
          "base_uri": "https://localhost:8080/"
        },
        "id": "wP7-kMMIkMx9",
        "outputId": "c4dd53aa-f473-4f37-a4be-a0a0b0352dab"
      },
      "execution_count": 23,
      "outputs": [
        {
          "output_type": "stream",
          "name": "stdout",
          "text": [
            "dict_keys(['name', 'major', 'gender'])\n",
            "dict_values(['labanya', 'computer-science', 'Female'])\n"
          ]
        }
      ]
    },
    {
      "cell_type": "markdown",
      "source": [
        "FUNCTIONS"
      ],
      "metadata": {
        "id": "cc8azslRkpsc"
      }
    },
    {
      "cell_type": "markdown",
      "source": [],
      "metadata": {
        "id": "yP_aDF30jMzo"
      }
    },
    {
      "cell_type": "markdown",
      "source": [
        "1)How to print value using function method?"
      ],
      "metadata": {
        "id": "QTPELRV1ktep"
      }
    },
    {
      "cell_type": "code",
      "source": [
        "def p(a,b,c=59):\n",
        "  print(a)\n",
        "  print(b)\n",
        "  print(c)\n",
        "p(57,58)\n",
        "\n",
        ""
      ],
      "metadata": {
        "colab": {
          "base_uri": "https://localhost:8080/"
        },
        "id": "CeQyU9EglMAw",
        "outputId": "de7ce3fc-0f9d-4b0b-bae4-8cbcb75086a0"
      },
      "execution_count": 24,
      "outputs": [
        {
          "output_type": "stream",
          "name": "stdout",
          "text": [
            "57\n",
            "58\n",
            "59\n"
          ]
        }
      ]
    },
    {
      "cell_type": "markdown",
      "source": [
        "2)How to calling function?"
      ],
      "metadata": {
        "id": "uH7yNozKlm3N"
      }
    },
    {
      "cell_type": "code",
      "source": [
        "#greet(\"labanya\")\n",
        "\n",
        "def greet(name):\n",
        "  print(\"Hello,\" + name + \"!\")\n",
        "greet(\"labanya\")"
      ],
      "metadata": {
        "colab": {
          "base_uri": "https://localhost:8080/"
        },
        "id": "_s2ckg9QmIdi",
        "outputId": "1afea0c8-5442-41c4-b110-97a4d5d577de"
      },
      "execution_count": 27,
      "outputs": [
        {
          "output_type": "stream",
          "name": "stdout",
          "text": [
            "Hello,labanya!\n"
          ]
        }
      ]
    },
    {
      "cell_type": "markdown",
      "source": [
        "3)How to use parameters?"
      ],
      "metadata": {
        "id": "P8Lliqt5mp1y"
      }
    },
    {
      "cell_type": "code",
      "source": [
        "\"\"\"\n",
        "def add(a=2,b=9):\n",
        "  #return a+b\n",
        "  print(\"add\")\n",
        "add(a+b)\n",
        "\"\"\""
      ],
      "metadata": {
        "colab": {
          "base_uri": "https://localhost:8080/"
        },
        "id": "szh5B6K5mxxZ",
        "outputId": "00641854-bc61-41d6-a1d7-a78f4ce1b8ff"
      },
      "execution_count": 28,
      "outputs": [
        {
          "output_type": "stream",
          "name": "stdout",
          "text": [
            "add\n"
          ]
        }
      ]
    },
    {
      "cell_type": "code",
      "source": [
        "def add(a,b=4):\n",
        "  return a+b\n",
        "r=add(4,5)\n",
        "print(r)"
      ],
      "metadata": {
        "colab": {
          "base_uri": "https://localhost:8080/"
        },
        "id": "TsRICXW1nfnd",
        "outputId": "9b426ced-1313-472f-8aea-c4b567fecc70"
      },
      "execution_count": 30,
      "outputs": [
        {
          "output_type": "stream",
          "name": "stdout",
          "text": [
            "9\n"
          ]
        }
      ]
    },
    {
      "cell_type": "markdown",
      "source": [
        "4)How to print default values for function parameters?"
      ],
      "metadata": {
        "id": "WtUb8Zg5nzGa"
      }
    },
    {
      "cell_type": "code",
      "source": [
        "def greet(name,g=\"Hello\"):\n",
        "  return f\"{g},{name}!\"\n",
        "\n",
        "print(greet(\"labanya\"))\n",
        "print(greet(\"pllp\",\"hi\"))"
      ],
      "metadata": {
        "colab": {
          "base_uri": "https://localhost:8080/"
        },
        "id": "yrqF7qztoDdK",
        "outputId": "c915e960-d1d2-4348-87cb-6f8e4304eb43"
      },
      "execution_count": 31,
      "outputs": [
        {
          "output_type": "stream",
          "name": "stdout",
          "text": [
            "Hello,labanya!\n",
            "hi,pllp!\n"
          ]
        }
      ]
    },
    {
      "cell_type": "markdown",
      "source": [
        "5)Print same order?"
      ],
      "metadata": {
        "id": "l3r2lurqota5"
      }
    },
    {
      "cell_type": "code",
      "source": [
        "def add(a,b,c):\n",
        "  print('first >>',a)\n",
        "  print('second >>',b)\n",
        "  print('third >>',c)\n",
        "\n",
        "add(a=5,c=9,b=2)"
      ],
      "metadata": {
        "colab": {
          "base_uri": "https://localhost:8080/"
        },
        "id": "GdcatmoRo_xv",
        "outputId": "ff907ef1-973c-4d00-cddd-1a9b29a2fb8c"
      },
      "execution_count": 33,
      "outputs": [
        {
          "output_type": "stream",
          "name": "stdout",
          "text": [
            "first >> 5\n",
            "second >> 2\n",
            "third >> 9\n"
          ]
        }
      ]
    }
  ]
}